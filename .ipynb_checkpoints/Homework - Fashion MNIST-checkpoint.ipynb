{
 "cells": [
  {
   "cell_type": "code",
   "execution_count": 1,
   "metadata": {},
   "outputs": [],
   "source": [
    "%matplotlib inline\n",
    "\n",
    "import numpy as np\n",
    "import matplotlib.pyplot as plt"
   ]
  },
  {
   "cell_type": "markdown",
   "metadata": {},
   "source": [
    "# 1.讀入 Fashion MNSIT 數據集"
   ]
  },
  {
   "cell_type": "code",
   "execution_count": 2,
   "metadata": {},
   "outputs": [],
   "source": [
    "from tensorflow.keras.datasets import fashion_mnist"
   ]
  },
  {
   "cell_type": "code",
   "execution_count": 3,
   "metadata": {},
   "outputs": [],
   "source": [
    "(x_train, y_train), (x_test, y_test) = fashion_mnist.load_data()"
   ]
  },
  {
   "cell_type": "markdown",
   "metadata": {},
   "source": [
    "# 2.欣賞數據集內容\n",
    "## Lebel Names\n",
    "### 1.T-shirt/top\n",
    "### 2.Trouser\n",
    "### 3.Pullover\n",
    "### 4.Dress\n",
    "### 5.Coat\n",
    "### 6.Sandal\n",
    "### 7.Shirt\n",
    "### 8.Sneaker\n",
    "### 9.Bag\n",
    "### 10.Ankle boot"
   ]
  },
  {
   "cell_type": "code",
   "execution_count": 4,
   "metadata": {},
   "outputs": [
    {
     "data": {
      "text/plain": [
       "60000"
      ]
     },
     "execution_count": 4,
     "metadata": {},
     "output_type": "execute_result"
    }
   ],
   "source": [
    "len(x_train)"
   ]
  },
  {
   "cell_type": "code",
   "execution_count": 5,
   "metadata": {},
   "outputs": [
    {
     "data": {
      "text/plain": [
       "10000"
      ]
     },
     "execution_count": 5,
     "metadata": {},
     "output_type": "execute_result"
    }
   ],
   "source": [
    "len(x_test)"
   ]
  },
  {
   "cell_type": "code",
   "execution_count": 6,
   "metadata": {},
   "outputs": [
    {
     "data": {
      "text/plain": [
       "array([[  0,   0,   0,   0,   0,   0,   0,   0,   0,   0, 119, 141, 235,\n",
       "        192, 144, 238, 205, 157, 119,   0,   0,   0,   0,   0,   0,   0,\n",
       "          0,   0],\n",
       "       [  0,   0,   0,   0,   0,   0,   0,   0,   0,   0, 167, 200, 244,\n",
       "        197, 195, 235, 206, 153, 131,   0,   0,   0,   0,   0,   0,   0,\n",
       "          0,   0],\n",
       "       [  0,   0,   0,   0,   0,   0,   0,   0,   0,  45, 206, 219, 206,\n",
       "        217, 243, 247, 241, 235, 202,   5,   0,   0,   0,   0,   0,   0,\n",
       "          0,   0],\n",
       "       [  0,   0,   0,   0,   0,   0,   0,   0,   0,  93, 200, 178, 200,\n",
       "        210, 255, 218, 193, 184, 189,  39,   0,   0,   0,   0,   0,   0,\n",
       "          0,   0],\n",
       "       [  0,   0,   0,   0,   0,   0,   0,   0,   0, 115, 175, 179, 206,\n",
       "        218, 199, 209, 204, 183, 176,  89,   0,   0,   0,   0,   0,   0,\n",
       "          0,   0],\n",
       "       [  0,   0,   0,   0,   0,   0,   0,   0,   0, 141, 174, 176, 214,\n",
       "        248, 249, 235, 197, 175, 176,  98,   0,   0,   0,   0,   0,   0,\n",
       "          0,   0],\n",
       "       [  0,   0,   0,   0,   0,   0,   0,   0,   0, 114, 153, 145, 173,\n",
       "        204, 199, 239, 167, 169, 179,  72,   0,   0,   0,   0,   0,   0,\n",
       "          0,   0],\n",
       "       [  0,   0,   0,   0,   0,   0,   0,   0,   0,  75, 150, 147, 188,\n",
       "        197,  33, 251, 171, 148, 163,  52,   0,   0,   0,   0,   0,   0,\n",
       "          0,   0],\n",
       "       [  0,   0,   0,   0,   0,   0,   0,   0,   0,  61, 144, 128, 179,\n",
       "        205,   0, 249, 189, 128, 134,  40,   0,   0,   0,   0,   0,   0,\n",
       "          0,   0],\n",
       "       [  0,   0,   0,   0,   0,   0,   0,   0,   0,  59, 143, 114, 160,\n",
       "        201,   0, 221, 206, 124, 127,  24,   0,   0,   0,   0,   0,   0,\n",
       "          0,   0],\n",
       "       [  0,   0,   0,   0,   0,   0,   0,   0,   0,  48, 163, 102, 161,\n",
       "        188,   0, 195, 201, 106, 127,  13,   0,   0,   0,   0,   0,   0,\n",
       "          0,   0],\n",
       "       [  0,   0,   0,   0,   0,   0,   0,   0,   0,   0, 148, 105, 165,\n",
       "        188,   0, 167, 179, 105, 123,   7,   0,   0,   0,   0,   0,   0,\n",
       "          0,   0],\n",
       "       [  0,   0,   0,   0,   0,   0,   0,   0,   0,   0, 139, 104, 179,\n",
       "        173,   0, 160, 180, 106, 110,   1,   0,   0,   0,   0,   0,   0,\n",
       "          0,   0],\n",
       "       [  0,   0,   0,   0,   0,   0,   0,   0,   0,   0, 161, 106, 184,\n",
       "        165,   0, 158, 184,  93, 100,   0,   0,   0,   0,   0,   0,   0,\n",
       "          0,   0],\n",
       "       [  0,   0,   0,   0,   0,   0,   0,   0,   0,   0, 163, 113, 180,\n",
       "        136,   0, 148, 188,  93,  83,   0,   0,   0,   0,   0,   0,   0,\n",
       "          0,   0],\n",
       "       [  0,   0,   0,   0,   0,   0,   0,   0,   0,   0, 130, 114, 182,\n",
       "        117,   0, 140, 191,  92,  66,   0,   0,   0,   0,   0,   0,   0,\n",
       "          0,   0],\n",
       "       [  0,   0,   0,   0,   0,   0,   0,   0,   0,   0,  93, 128, 170,\n",
       "        120,   0, 137, 195,  98,  63,   0,   0,   0,   0,   0,   0,   0,\n",
       "          0,   0],\n",
       "       [  0,   0,   0,   0,   0,   0,   0,   0,   0,   0, 140, 127, 195,\n",
       "         87,   0, 127, 187,  89, 104,   0,   0,   0,   0,   0,   0,   0,\n",
       "          0,   0],\n",
       "       [  0,   0,   0,   0,   0,   0,   0,   0,   0,   0, 106, 124, 189,\n",
       "         44,   0, 126, 196, 124,  96,   0,   0,   0,   0,   0,   0,   0,\n",
       "          0,   0],\n",
       "       [  0,   0,   0,   0,   0,   0,   0,   0,   0,   0, 141, 178, 176,\n",
       "         11,   0, 114, 204, 163, 120,   0,   0,   0,   0,   0,   0,   0,\n",
       "          0,   0],\n",
       "       [  0,   0,   0,   0,   0,   0,   0,   0,   0,   0, 176, 209, 183,\n",
       "          0,   0, 118, 218, 191, 158,   0,   0,   0,   0,   0,   0,   0,\n",
       "          0,   0],\n",
       "       [  0,   0,   0,   0,   0,   0,   0,   0,   0,   0, 165, 195, 176,\n",
       "          0,   0, 102, 223, 187, 149,   0,   0,   0,   0,   0,   0,   0,\n",
       "          0,   0],\n",
       "       [  0,   0,   0,   0,   0,   0,   0,   0,   0,   0, 158, 199, 183,\n",
       "          1,   0,  87, 227, 206, 135,   0,   0,   0,   0,   0,   0,   0,\n",
       "          0,   0],\n",
       "       [  0,   0,   0,   0,   0,   0,   0,   0,   0,   0, 165, 200, 191,\n",
       "          1,   0,  75, 218, 214, 145,   0,   0,   0,   0,   0,   0,   0,\n",
       "          0,   0],\n",
       "       [  0,   0,   0,   0,   0,   0,   0,   0,   0,   0, 167, 195, 189,\n",
       "          2,   0,  68, 212, 209, 161,   0,   0,   0,   0,   0,   0,   0,\n",
       "          0,   0],\n",
       "       [  0,   0,   0,   0,   0,   0,   0,   0,   0,   0, 180, 193, 187,\n",
       "         11,   0,  44, 223, 206, 128,   0,   0,   0,   0,   0,   0,   0,\n",
       "          0,   0],\n",
       "       [  0,   0,   0,   0,   0,   0,   0,   0,   0,   0, 191, 204, 192,\n",
       "          5,   0,  15, 219, 205, 132,   0,   0,   0,   0,   0,   0,   0,\n",
       "          0,   0],\n",
       "       [  0,   0,   0,   0,   0,   0,   0,   0,   0,   0, 106, 193, 135,\n",
       "          0,   0,   0, 173, 193,  70,   0,   0,   0,   0,   0,   0,   0,\n",
       "          0,   0]], dtype=uint8)"
      ]
     },
     "execution_count": 6,
     "metadata": {},
     "output_type": "execute_result"
    }
   ],
   "source": [
    "x_train[6666]"
   ]
  },
  {
   "cell_type": "code",
   "execution_count": 7,
   "metadata": {},
   "outputs": [
    {
     "data": {
      "text/plain": [
       "1"
      ]
     },
     "execution_count": 7,
     "metadata": {},
     "output_type": "execute_result"
    }
   ],
   "source": [
    "y_train[6666]"
   ]
  },
  {
   "cell_type": "code",
   "execution_count": 8,
   "metadata": {},
   "outputs": [
    {
     "name": "stdout",
     "output_type": "stream",
     "text": [
      "正確答案： 1\n"
     ]
    },
    {
     "data": {
      "image/png": "[encoded data removed]",
      "text/plain": [
       "<Figure size 432x288 with 1 Axes>"
      ]
     },
     "metadata": {
      "needs_background": "light"
     },
     "output_type": "display_data"
    }
   ],
   "source": [
    "plt.imshow(x_train[6666],cmap='Greys')\n",
    "print('正確答案：',y_train[6666])"
   ]
  },
  {
   "cell_type": "markdown",
   "metadata": {},
   "source": [
    "# 3.資料整理"
   ]
  },
  {
   "cell_type": "code",
   "execution_count": 9,
   "metadata": {},
   "outputs": [],
   "source": [
    "x_train=x_train/255\n",
    "x_test=x_test/255"
   ]
  },
  {
   "cell_type": "code",
   "execution_count": 10,
   "metadata": {},
   "outputs": [
    {
     "data": {
      "text/plain": [
       "(10000, 28, 28)"
      ]
     },
     "execution_count": 10,
     "metadata": {},
     "output_type": "execute_result"
    }
   ],
   "source": [
    "x_test.shape"
   ]
  },
  {
   "cell_type": "code",
   "execution_count": 11,
   "metadata": {},
   "outputs": [],
   "source": [
    "x_train=x_train.reshape(60000,28*28)"
   ]
  },
  {
   "cell_type": "code",
   "execution_count": 12,
   "metadata": {},
   "outputs": [],
   "source": [
    "x_test=x_test.reshape(10000,28*28)"
   ]
  },
  {
   "cell_type": "code",
   "execution_count": 13,
   "metadata": {},
   "outputs": [],
   "source": [
    "from tensorflow.keras.utils import to_categorical"
   ]
  },
  {
   "cell_type": "code",
   "execution_count": 14,
   "metadata": {},
   "outputs": [],
   "source": [
    "y_train=to_categorical(y_train,10)\n",
    "y_test2=to_categorical(y_test,10)"
   ]
  },
  {
   "cell_type": "code",
   "execution_count": 15,
   "metadata": {},
   "outputs": [
    {
     "data": {
      "text/plain": [
       "array([0., 1., 0., 0., 0., 0., 0., 0., 0., 0.], dtype=float32)"
      ]
     },
     "execution_count": 15,
     "metadata": {},
     "output_type": "execute_result"
    }
   ],
   "source": [
    "y_train[6666]"
   ]
  },
  {
   "cell_type": "markdown",
   "metadata": {},
   "source": [
    "# 4-1.打造神經網路"
   ]
  },
  {
   "cell_type": "code",
   "execution_count": 16,
   "metadata": {},
   "outputs": [],
   "source": [
    "from tensorflow.keras.models import Sequential\n",
    "from tensorflow.keras.layers import Dense\n",
    "from tensorflow.keras.optimizers import SGD"
   ]
  },
  {
   "cell_type": "code",
   "execution_count": 17,
   "metadata": {},
   "outputs": [],
   "source": [
    "model=Sequential()"
   ]
  },
  {
   "cell_type": "code",
   "execution_count": 18,
   "metadata": {},
   "outputs": [],
   "source": [
    "model.add(Dense(150,input_dim=784,activation='relu'))"
   ]
  },
  {
   "cell_type": "code",
   "execution_count": 19,
   "metadata": {},
   "outputs": [],
   "source": [
    "model.add(Dense(150,activation='relu'))"
   ]
  },
  {
   "cell_type": "code",
   "execution_count": 20,
   "metadata": {},
   "outputs": [],
   "source": [
    "model.add(Dense(75,activation='relu'))"
   ]
  },
  {
   "cell_type": "code",
   "execution_count": 21,
   "metadata": {},
   "outputs": [],
   "source": [
    "model.add(Dense(10,activation='softmax'))"
   ]
  },
  {
   "cell_type": "markdown",
   "metadata": {},
   "source": [
    "# 4-2.組裝神經網路"
   ]
  },
  {
   "cell_type": "code",
   "execution_count": 22,
   "metadata": {},
   "outputs": [],
   "source": [
    "model.compile(loss='mse',optimizer=SGD(lr=0.087),metrics=['accuracy'])"
   ]
  },
  {
   "cell_type": "code",
   "execution_count": 23,
   "metadata": {},
   "outputs": [
    {
     "name": "stdout",
     "output_type": "stream",
     "text": [
      "Model: \"sequential\"\n",
      "_________________________________________________________________\n",
      "Layer (type)                 Output Shape              Param #   \n",
      "=================================================================\n",
      "dense (Dense)                (None, 150)               117750    \n",
      "_________________________________________________________________\n",
      "dense_1 (Dense)              (None, 150)               22650     \n",
      "_________________________________________________________________\n",
      "dense_2 (Dense)              (None, 75)                11325     \n",
      "_________________________________________________________________\n",
      "dense_3 (Dense)              (None, 10)                760       \n",
      "=================================================================\n",
      "Total params: 152,485\n",
      "Trainable params: 152,485\n",
      "Non-trainable params: 0\n",
      "_________________________________________________________________\n"
     ]
    }
   ],
   "source": [
    "model.summary()"
   ]
  },
  {
   "cell_type": "code",
   "execution_count": 24,
   "metadata": {},
   "outputs": [
    {
     "data": {
      "text/plain": [
       "68295"
      ]
     },
     "execution_count": 24,
     "metadata": {},
     "output_type": "execute_result"
    }
   ],
   "source": [
    "784*87 + 87"
   ]
  },
  {
   "cell_type": "markdown",
   "metadata": {},
   "source": [
    "# 5.訓練"
   ]
  },
  {
   "cell_type": "code",
   "execution_count": 25,
   "metadata": {},
   "outputs": [],
   "source": [
    "#分5批訓練，每批訓練20次"
   ]
  },
  {
   "cell_type": "code",
   "execution_count": 26,
   "metadata": {},
   "outputs": [
    {
     "name": "stdout",
     "output_type": "stream",
     "text": [
      "Train on 60000 samples\n",
      "Epoch 1/20\n",
      "60000/60000 [==============================] - 5s 80us/sample - loss: 0.0764 - accuracy: 0.4196\n",
      "Epoch 2/20\n",
      "60000/60000 [==============================] - 4s 59us/sample - loss: 0.0434 - accuracy: 0.7244\n",
      "Epoch 3/20\n",
      "60000/60000 [==============================] - 4s 60us/sample - loss: 0.0333 - accuracy: 0.7825\n",
      "Epoch 4/20\n",
      "60000/60000 [==============================] - 4s 60us/sample - loss: 0.0294 - accuracy: 0.8059\n",
      "Epoch 5/20\n",
      "60000/60000 [==============================] - 4s 59us/sample - loss: 0.0274 - accuracy: 0.8158\n",
      "Epoch 6/20\n",
      "60000/60000 [==============================] - 4s 59us/sample - loss: 0.0260 - accuracy: 0.8245\n",
      "Epoch 7/20\n",
      "60000/60000 [==============================] - 4s 59us/sample - loss: 0.0250 - accuracy: 0.8305\n",
      "Epoch 8/20\n",
      "60000/60000 [==============================] - 4s 60us/sample - loss: 0.0242 - accuracy: 0.8364\n",
      "Epoch 9/20\n",
      "60000/60000 [==============================] - 4s 59us/sample - loss: 0.0236 - accuracy: 0.8400\n",
      "Epoch 10/20\n",
      "60000/60000 [==============================] - 4s 61us/sample - loss: 0.0230 - accuracy: 0.8441\n",
      "Epoch 11/20\n",
      "60000/60000 [==============================] - 4s 61us/sample - loss: 0.0226 - accuracy: 0.8469\n",
      "Epoch 12/20\n",
      "60000/60000 [==============================] - 4s 59us/sample - loss: 0.0223 - accuracy: 0.8493\n",
      "Epoch 13/20\n",
      "60000/60000 [==============================] - 4s 60us/sample - loss: 0.0219 - accuracy: 0.8512\n",
      "Epoch 14/20\n",
      "60000/60000 [==============================] - 4s 60us/sample - loss: 0.0215 - accuracy: 0.8542\n",
      "Epoch 15/20\n",
      "60000/60000 [==============================] - 4s 60us/sample - loss: 0.0213 - accuracy: 0.8554\n",
      "Epoch 16/20\n",
      "60000/60000 [==============================] - 4s 60us/sample - loss: 0.0210 - accuracy: 0.8581\n",
      "Epoch 17/20\n",
      "60000/60000 [==============================] - 4s 60us/sample - loss: 0.0207 - accuracy: 0.8601\n",
      "Epoch 18/20\n",
      "60000/60000 [==============================] - 4s 61us/sample - loss: 0.0205 - accuracy: 0.8611\n",
      "Epoch 19/20\n",
      "60000/60000 [==============================] - 4s 59us/sample - loss: 0.0203 - accuracy: 0.8626\n",
      "Epoch 20/20\n",
      "60000/60000 [==============================] - 4s 59us/sample - loss: 0.0200 - accuracy: 0.8646\n"
     ]
    },
    {
     "data": {
      "text/plain": [
       "<tensorflow.python.keras.callbacks.History at 0x1e48b17ac48>"
      ]
     },
     "execution_count": 26,
     "metadata": {},
     "output_type": "execute_result"
    }
   ],
   "source": [
    "model.fit(x_train,y_train,batch_size=100,epochs=20) #第一次"
   ]
  },
  {
   "cell_type": "code",
   "execution_count": 27,
   "metadata": {},
   "outputs": [
    {
     "name": "stdout",
     "output_type": "stream",
     "text": [
      "Train on 60000 samples\n",
      "Epoch 1/20\n",
      "60000/60000 [==============================] - 4s 59us/sample - loss: 0.0198 - accuracy: 0.8653\n",
      "Epoch 2/20\n",
      "60000/60000 [==============================] - 4s 60us/sample - loss: 0.0196 - accuracy: 0.8672\n",
      "Epoch 3/20\n",
      "60000/60000 [==============================] - 4s 61us/sample - loss: 0.0195 - accuracy: 0.8686\n",
      "Epoch 4/20\n",
      "60000/60000 [==============================] - 4s 60us/sample - loss: 0.0193 - accuracy: 0.8696\n",
      "Epoch 5/20\n",
      "60000/60000 [==============================] - 4s 61us/sample - loss: 0.0191 - accuracy: 0.8714\n",
      "Epoch 6/20\n",
      "60000/60000 [==============================] - 4s 60us/sample - loss: 0.0190 - accuracy: 0.8718\n",
      "Epoch 7/20\n",
      "60000/60000 [==============================] - 4s 60us/sample - loss: 0.0188 - accuracy: 0.8732\n",
      "Epoch 8/20\n",
      "60000/60000 [==============================] - 4s 59us/sample - loss: 0.0186 - accuracy: 0.8745\n",
      "Epoch 9/20\n",
      "60000/60000 [==============================] - 4s 60us/sample - loss: 0.0185 - accuracy: 0.8754\n",
      "Epoch 10/20\n",
      "60000/60000 [==============================] - 4s 61us/sample - loss: 0.0183 - accuracy: 0.8773\n",
      "Epoch 11/20\n",
      "60000/60000 [==============================] - 4s 60us/sample - loss: 0.0182 - accuracy: 0.8766\n",
      "Epoch 12/20\n",
      "60000/60000 [==============================] - 4s 60us/sample - loss: 0.0181 - accuracy: 0.8793\n",
      "Epoch 13/20\n",
      "60000/60000 [==============================] - 4s 61us/sample - loss: 0.0180 - accuracy: 0.8793\n",
      "Epoch 14/20\n",
      "60000/60000 [==============================] - 4s 60us/sample - loss: 0.0178 - accuracy: 0.8799\n",
      "Epoch 15/20\n",
      "60000/60000 [==============================] - 4s 62us/sample - loss: 0.0177 - accuracy: 0.8822\n",
      "Epoch 16/20\n",
      "60000/60000 [==============================] - 4s 61us/sample - loss: 0.0176 - accuracy: 0.8810\n",
      "Epoch 17/20\n",
      "60000/60000 [==============================] - 4s 60us/sample - loss: 0.0174 - accuracy: 0.8843\n",
      "Epoch 18/20\n",
      "60000/60000 [==============================] - 4s 60us/sample - loss: 0.0173 - accuracy: 0.8845\n",
      "Epoch 19/20\n",
      "60000/60000 [==============================] - 4s 60us/sample - loss: 0.0172 - accuracy: 0.8852\n",
      "Epoch 20/20\n",
      "60000/60000 [==============================] - 3s 51us/sample - loss: 0.0172 - accuracy: 0.8855\n"
     ]
    },
    {
     "data": {
      "text/plain": [
       "<tensorflow.python.keras.callbacks.History at 0x1e4acc99d88>"
      ]
     },
     "execution_count": 27,
     "metadata": {},
     "output_type": "execute_result"
    }
   ],
   "source": [
    "model.fit(x_train,y_train,batch_size=100,epochs=20) #第二次"
   ]
  },
  {
   "cell_type": "code",
   "execution_count": 28,
   "metadata": {},
   "outputs": [
    {
     "name": "stdout",
     "output_type": "stream",
     "text": [
      "Train on 60000 samples\n",
      "Epoch 1/20\n",
      "60000/60000 [==============================] - 3s 51us/sample - loss: 0.0171 - accuracy: 0.8864\n",
      "Epoch 2/20\n",
      "60000/60000 [==============================] - 3s 51us/sample - loss: 0.0169 - accuracy: 0.8876\n",
      "Epoch 3/20\n",
      "60000/60000 [==============================] - 3s 51us/sample - loss: 0.0168 - accuracy: 0.8888\n",
      "Epoch 4/20\n",
      "60000/60000 [==============================] - 3s 51us/sample - loss: 0.0167 - accuracy: 0.8892\n",
      "Epoch 5/20\n",
      "60000/60000 [==============================] - 3s 51us/sample - loss: 0.0166 - accuracy: 0.8889\n",
      "Epoch 6/20\n",
      "60000/60000 [==============================] - 3s 51us/sample - loss: 0.0165 - accuracy: 0.8898\n",
      "Epoch 7/20\n",
      "60000/60000 [==============================] - 3s 49us/sample - loss: 0.0165 - accuracy: 0.8917\n",
      "Epoch 8/20\n",
      "60000/60000 [==============================] - 3s 50us/sample - loss: 0.0164 - accuracy: 0.8910\n",
      "Epoch 9/20\n",
      "60000/60000 [==============================] - 3s 50us/sample - loss: 0.0163 - accuracy: 0.8920\n",
      "Epoch 10/20\n",
      "60000/60000 [==============================] - 3s 50us/sample - loss: 0.0162 - accuracy: 0.8925\n",
      "Epoch 11/20\n",
      "60000/60000 [==============================] - 3s 50us/sample - loss: 0.0161 - accuracy: 0.8935\n",
      "Epoch 12/20\n",
      "60000/60000 [==============================] - 3s 50us/sample - loss: 0.0160 - accuracy: 0.8938\n",
      "Epoch 13/20\n",
      "60000/60000 [==============================] - 3s 50us/sample - loss: 0.0159 - accuracy: 0.8946\n",
      "Epoch 14/20\n",
      "60000/60000 [==============================] - 3s 50us/sample - loss: 0.0159 - accuracy: 0.8943\n",
      "Epoch 15/20\n",
      "60000/60000 [==============================] - 3s 51us/sample - loss: 0.0157 - accuracy: 0.8956\n",
      "Epoch 16/20\n",
      "60000/60000 [==============================] - 3s 50us/sample - loss: 0.0157 - accuracy: 0.8960\n",
      "Epoch 17/20\n",
      "60000/60000 [==============================] - 3s 50us/sample - loss: 0.0156 - accuracy: 0.8963\n",
      "Epoch 18/20\n",
      "60000/60000 [==============================] - 3s 51us/sample - loss: 0.0155 - accuracy: 0.8976\n",
      "Epoch 19/20\n",
      "60000/60000 [==============================] - 3s 51us/sample - loss: 0.0155 - accuracy: 0.8984\n",
      "Epoch 20/20\n",
      "60000/60000 [==============================] - 3s 51us/sample - loss: 0.0154 - accuracy: 0.8982\n"
     ]
    },
    {
     "data": {
      "text/plain": [
       "<tensorflow.python.keras.callbacks.History at 0x1e4accebe08>"
      ]
     },
     "execution_count": 28,
     "metadata": {},
     "output_type": "execute_result"
    }
   ],
   "source": [
    "model.fit(x_train,y_train,batch_size=100,epochs=20) #第三次"
   ]
  },
  {
   "cell_type": "code",
   "execution_count": 29,
   "metadata": {},
   "outputs": [
    {
     "name": "stdout",
     "output_type": "stream",
     "text": [
      "Train on 60000 samples\n",
      "Epoch 1/20\n",
      "60000/60000 [==============================] - 3s 52us/sample - loss: 0.0153 - accuracy: 0.8990\n",
      "Epoch 2/20\n",
      "60000/60000 [==============================] - 3s 51us/sample - loss: 0.0152 - accuracy: 0.8993\n",
      "Epoch 3/20\n",
      "60000/60000 [==============================] - 3s 51us/sample - loss: 0.0151 - accuracy: 0.9002\n",
      "Epoch 4/20\n",
      "60000/60000 [==============================] - 3s 51us/sample - loss: 0.0151 - accuracy: 0.9003\n",
      "Epoch 5/20\n",
      "60000/60000 [==============================] - 3s 50us/sample - loss: 0.0150 - accuracy: 0.9010\n",
      "Epoch 6/20\n",
      "60000/60000 [==============================] - 3s 51us/sample - loss: 0.0150 - accuracy: 0.9010\n",
      "Epoch 7/20\n",
      "60000/60000 [==============================] - 3s 50us/sample - loss: 0.0148 - accuracy: 0.9025\n",
      "Epoch 8/20\n",
      "60000/60000 [==============================] - 3s 50us/sample - loss: 0.0149 - accuracy: 0.9021\n",
      "Epoch 9/20\n",
      "60000/60000 [==============================] - 3s 51us/sample - loss: 0.0147 - accuracy: 0.9033\n",
      "Epoch 10/20\n",
      "60000/60000 [==============================] - 3s 51us/sample - loss: 0.0146 - accuracy: 0.9046\n",
      "Epoch 11/20\n",
      "60000/60000 [==============================] - 3s 50us/sample - loss: 0.0146 - accuracy: 0.9042\n",
      "Epoch 12/20\n",
      "60000/60000 [==============================] - 3s 50us/sample - loss: 0.0145 - accuracy: 0.9051\n",
      "Epoch 13/20\n",
      "60000/60000 [==============================] - 3s 50us/sample - loss: 0.0144 - accuracy: 0.9060\n",
      "Epoch 14/20\n",
      "60000/60000 [==============================] - 3s 51us/sample - loss: 0.0144 - accuracy: 0.9053\n",
      "Epoch 15/20\n",
      "60000/60000 [==============================] - 3s 57us/sample - loss: 0.0144 - accuracy: 0.9062\n",
      "Epoch 16/20\n",
      "60000/60000 [==============================] - 3s 50us/sample - loss: 0.0143 - accuracy: 0.9073\n",
      "Epoch 17/20\n",
      "60000/60000 [==============================] - 3s 50us/sample - loss: 0.0142 - accuracy: 0.9075\n",
      "Epoch 18/20\n",
      "60000/60000 [==============================] - 3s 50us/sample - loss: 0.0141 - accuracy: 0.9077\n",
      "Epoch 19/20\n",
      "60000/60000 [==============================] - 3s 51us/sample - loss: 0.0141 - accuracy: 0.9081\n",
      "Epoch 20/20\n",
      "60000/60000 [==============================] - 3s 51us/sample - loss: 0.0140 - accuracy: 0.9097\n"
     ]
    },
    {
     "data": {
      "text/plain": [
       "<tensorflow.python.keras.callbacks.History at 0x1e4acd3adc8>"
      ]
     },
     "execution_count": 29,
     "metadata": {},
     "output_type": "execute_result"
    }
   ],
   "source": [
    "model.fit(x_train,y_train,batch_size=100,epochs=20) #第四次"
   ]
  },
  {
   "cell_type": "code",
   "execution_count": 30,
   "metadata": {},
   "outputs": [
    {
     "name": "stdout",
     "output_type": "stream",
     "text": [
      "Train on 60000 samples\n",
      "Epoch 1/20\n",
      "60000/60000 [==============================] - 3s 52us/sample - loss: 0.0140 - accuracy: 0.9091\n",
      "Epoch 2/20\n",
      "60000/60000 [==============================] - 3s 51us/sample - loss: 0.0139 - accuracy: 0.9101\n",
      "Epoch 3/20\n",
      "60000/60000 [==============================] - 3s 51us/sample - loss: 0.0138 - accuracy: 0.9101\n",
      "Epoch 4/20\n",
      "60000/60000 [==============================] - 3s 51us/sample - loss: 0.0137 - accuracy: 0.9118\n",
      "Epoch 5/20\n",
      "60000/60000 [==============================] - 3s 51us/sample - loss: 0.0137 - accuracy: 0.9111\n",
      "Epoch 6/20\n",
      "60000/60000 [==============================] - 3s 51us/sample - loss: 0.0136 - accuracy: 0.9121\n",
      "Epoch 7/20\n",
      "60000/60000 [==============================] - 3s 51us/sample - loss: 0.0136 - accuracy: 0.9121\n",
      "Epoch 8/20\n",
      "60000/60000 [==============================] - 3s 51us/sample - loss: 0.0136 - accuracy: 0.9118\n",
      "Epoch 9/20\n",
      "60000/60000 [==============================] - 3s 51us/sample - loss: 0.0134 - accuracy: 0.9126\n",
      "Epoch 10/20\n",
      "60000/60000 [==============================] - 3s 51us/sample - loss: 0.0134 - accuracy: 0.9132\n",
      "Epoch 11/20\n",
      "60000/60000 [==============================] - 3s 50us/sample - loss: 0.0133 - accuracy: 0.9137\n",
      "Epoch 12/20\n",
      "60000/60000 [==============================] - 3s 50us/sample - loss: 0.0133 - accuracy: 0.9140\n",
      "Epoch 13/20\n",
      "60000/60000 [==============================] - 3s 50us/sample - loss: 0.0133 - accuracy: 0.9130\n",
      "Epoch 14/20\n",
      "60000/60000 [==============================] - 3s 50us/sample - loss: 0.0132 - accuracy: 0.9149\n",
      "Epoch 15/20\n",
      "60000/60000 [==============================] - 3s 50us/sample - loss: 0.0131 - accuracy: 0.9158\n",
      "Epoch 16/20\n",
      "60000/60000 [==============================] - 3s 54us/sample - loss: 0.0131 - accuracy: 0.9158\n",
      "Epoch 17/20\n",
      "60000/60000 [==============================] - 3s 54us/sample - loss: 0.0131 - accuracy: 0.9154\n",
      "Epoch 18/20\n",
      "60000/60000 [==============================] - 3s 54us/sample - loss: 0.0129 - accuracy: 0.9173\n",
      "Epoch 19/20\n",
      "60000/60000 [==============================] - 3s 52us/sample - loss: 0.0128 - accuracy: 0.9170\n",
      "Epoch 20/20\n",
      "60000/60000 [==============================] - 3s 51us/sample - loss: 0.0128 - accuracy: 0.9181\n"
     ]
    },
    {
     "data": {
      "text/plain": [
       "<tensorflow.python.keras.callbacks.History at 0x1e4acd8bd88>"
      ]
     },
     "execution_count": 30,
     "metadata": {},
     "output_type": "execute_result"
    }
   ],
   "source": [
    "model.fit(x_train,y_train,batch_size=100,epochs=20) #第五次"
   ]
  },
  {
   "cell_type": "markdown",
   "metadata": {},
   "source": [
    "# 6.訓練成果"
   ]
  },
  {
   "cell_type": "code",
   "execution_count": 31,
   "metadata": {},
   "outputs": [],
   "source": [
    "result=model.predict_classes(x_test)"
   ]
  },
  {
   "cell_type": "code",
   "execution_count": 32,
   "metadata": {},
   "outputs": [
    {
     "name": "stdout",
     "output_type": "stream",
     "text": [
      "神經網路預測： 3\n"
     ]
    },
    {
     "data": {
      "text/plain": [
       "<matplotlib.image.AxesImage at 0x1e4acdd7b08>"
      ]
     },
     "execution_count": 32,
     "metadata": {},
     "output_type": "execute_result"
    },
    {
     "data": {
      "image/png": "[encoded data removed]",
      "text/plain": [
       "<Figure size 432x288 with 1 Axes>"
      ]
     },
     "metadata": {
      "needs_background": "light"
     },
     "output_type": "display_data"
    }
   ],
   "source": [
    "n=666\n",
    "print('神經網路預測：',result[n])\n",
    "plt.imshow(x_test[n].reshape(28,28),cmap='Greys')"
   ]
  },
  {
   "cell_type": "code",
   "execution_count": 33,
   "metadata": {
    "scrolled": true
   },
   "outputs": [
    {
     "name": "stdout",
     "output_type": "stream",
     "text": [
      "神經網路預測： 5\n"
     ]
    },
    {
     "data": {
      "text/plain": [
       "<matplotlib.image.AxesImage at 0x1e4a5adbc88>"
      ]
     },
     "execution_count": 33,
     "metadata": {},
     "output_type": "execute_result"
    },
    {
     "data": {
      "image/png": "[encoded data removed]",
      "text/plain": [
       "<Figure size 432x288 with 1 Axes>"
      ]
     },
     "metadata": {
      "needs_background": "light"
     },
     "output_type": "display_data"
    }
   ],
   "source": [
    "n=5781\n",
    "print('神經網路預測：',result[n])\n",
    "plt.imshow(x_test[n].reshape(28,28),cmap='Greys')"
   ]
  },
  {
   "cell_type": "code",
   "execution_count": null,
   "metadata": {},
   "outputs": [],
   "source": []
  }
 ],
 "metadata": {
  "kernelspec": {
   "display_name": "Python 3",
   "language": "python",
   "name": "python3"
  },
  "language_info": {
   "codemirror_mode": {
    "name": "ipython",
    "version": 3
   },
   "file_extension": ".py",
   "mimetype": "text/x-python",
   "name": "python",
   "nbconvert_exporter": "python",
   "pygments_lexer": "ipython3",
   "version": "3.7.4"
  }
 },
 "nbformat": 4,
 "nbformat_minor": 2
}

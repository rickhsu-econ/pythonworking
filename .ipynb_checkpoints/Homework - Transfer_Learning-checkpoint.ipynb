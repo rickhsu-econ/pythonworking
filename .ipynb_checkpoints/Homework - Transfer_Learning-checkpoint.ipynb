{
 "cells": [
  {
   "cell_type": "code",
   "execution_count": 1,
   "metadata": {},
   "outputs": [],
   "source": [
    "%matplotlib inline\n",
    "import numpy as np\n",
    "import matplotlib.pyplot as plt\n",
    "import pandas as pd"
   ]
  },
  {
   "cell_type": "code",
   "execution_count": 2,
   "metadata": {},
   "outputs": [],
   "source": [
    "import tensorflow as tf"
   ]
  },
  {
   "cell_type": "markdown",
   "metadata": {},
   "source": [
    "## 使用MNIST資料庫"
   ]
  },
  {
   "cell_type": "code",
   "execution_count": 5,
   "metadata": {},
   "outputs": [],
   "source": [
    "from tensorflow.keras.datasets import mnist\n",
    "(x_train, y_train), (x_test, y_test) = mnist.load_data()"
   ]
  },
  {
   "cell_type": "markdown",
   "metadata": {},
   "source": [
    "## 資料前處理 (Data Preprocessing)"
   ]
  },
  {
   "cell_type": "code",
   "execution_count": 6,
   "metadata": {},
   "outputs": [
    {
     "data": {
      "text/plain": [
       "(60000, 28, 28)"
      ]
     },
     "execution_count": 6,
     "metadata": {},
     "output_type": "execute_result"
    }
   ],
   "source": [
    "x_train.shape"
   ]
  },
  {
   "cell_type": "code",
   "execution_count": 7,
   "metadata": {},
   "outputs": [],
   "source": [
    "x_train = x_train.reshape(60000, 28, 28, 1)/255\n",
    "x_test = x_test.reshape(10000, 28, 28, 1)/255\n",
    "\n",
    "from tensorflow.keras.utils import to_categorical\n",
    "\n",
    "y_train = to_categorical(y_train, 10)\n",
    "y_test = to_categorical(y_test, 10)"
   ]
  },
  {
   "cell_type": "markdown",
   "metadata": {},
   "source": [
    "## 打造神經網路"
   ]
  },
  {
   "cell_type": "code",
   "execution_count": 8,
   "metadata": {},
   "outputs": [],
   "source": [
    "from tensorflow.keras.models import Sequential\n",
    "from tensorflow.keras.layers import Conv2D, MaxPooling2D\n",
    "from tensorflow.keras.layers import Dense, Flatten\n",
    "from tensorflow.keras.optimizers import SGD"
   ]
  },
  {
   "cell_type": "code",
   "execution_count": 9,
   "metadata": {},
   "outputs": [],
   "source": [
    "CNN_layers = [Conv2D(10, (5,5), padding='same', input_shape=(28, 28, 1), activation='relu'),\n",
    "              MaxPooling2D(pool_size=(2,2)),\n",
    "              Conv2D(15, (5,5), padding='same', activation='relu'),\n",
    "              MaxPooling2D(pool_size=(2,2)),\n",
    "              Conv2D(20, (5,5), padding='same', activation='relu'),\n",
    "              MaxPooling2D(pool_size=(2,2)),\n",
    "              Flatten()]"
   ]
  },
  {
   "cell_type": "code",
   "execution_count": 10,
   "metadata": {},
   "outputs": [],
   "source": [
    "FC_layers = [Dense(36, activation='relu'),\n",
    "             Dense(10, activation='softmax')]"
   ]
  },
  {
   "cell_type": "code",
   "execution_count": 11,
   "metadata": {},
   "outputs": [],
   "source": [
    "model = Sequential(CNN_layers+FC_layers)"
   ]
  },
  {
   "cell_type": "code",
   "execution_count": 12,
   "metadata": {},
   "outputs": [],
   "source": [
    "model.compile(loss='mse', optimizer=SGD(lr=0.056), metrics=['accuracy'])"
   ]
  },
  {
   "cell_type": "code",
   "execution_count": 13,
   "metadata": {},
   "outputs": [
    {
     "name": "stdout",
     "output_type": "stream",
     "text": [
      "Model: \"sequential\"\n",
      "_________________________________________________________________\n",
      "Layer (type)                 Output Shape              Param #   \n",
      "=================================================================\n",
      "conv2d (Conv2D)              (None, 28, 28, 10)        260       \n",
      "_________________________________________________________________\n",
      "max_pooling2d (MaxPooling2D) (None, 14, 14, 10)        0         \n",
      "_________________________________________________________________\n",
      "conv2d_1 (Conv2D)            (None, 14, 14, 15)        3765      \n",
      "_________________________________________________________________\n",
      "max_pooling2d_1 (MaxPooling2 (None, 7, 7, 15)          0         \n",
      "_________________________________________________________________\n",
      "conv2d_2 (Conv2D)            (None, 7, 7, 20)          7520      \n",
      "_________________________________________________________________\n",
      "max_pooling2d_2 (MaxPooling2 (None, 3, 3, 20)          0         \n",
      "_________________________________________________________________\n",
      "flatten (Flatten)            (None, 180)               0         \n",
      "_________________________________________________________________\n",
      "dense (Dense)                (None, 36)                6516      \n",
      "_________________________________________________________________\n",
      "dense_1 (Dense)              (None, 10)                370       \n",
      "=================================================================\n",
      "Total params: 18,431\n",
      "Trainable params: 18,431\n",
      "Non-trainable params: 0\n",
      "_________________________________________________________________\n"
     ]
    }
   ],
   "source": [
    "model.summary()"
   ]
  },
  {
   "cell_type": "code",
   "execution_count": 14,
   "metadata": {},
   "outputs": [
    {
     "name": "stdout",
     "output_type": "stream",
     "text": [
      "Train on 60000 samples\n",
      "Epoch 1/15\n",
      "60000/60000 [==============================] - 70s 1ms/sample - loss: 0.0896 - accuracy: 0.1092\n",
      "Epoch 2/15\n",
      "60000/60000 [==============================] - 67s 1ms/sample - loss: 0.0889 - accuracy: 0.1965\n",
      "Epoch 3/15\n",
      "60000/60000 [==============================] - 67s 1ms/sample - loss: 0.0881 - accuracy: 0.2928\n",
      "Epoch 4/15\n",
      "60000/60000 [==============================] - 66s 1ms/sample - loss: 0.0866 - accuracy: 0.4058\n",
      "Epoch 5/15\n",
      "60000/60000 [==============================] - 68s 1ms/sample - loss: 0.0835 - accuracy: 0.5149\n",
      "Epoch 6/15\n",
      "60000/60000 [==============================] - 69s 1ms/sample - loss: 0.0700 - accuracy: 0.5829\n",
      "Epoch 7/15\n",
      "60000/60000 [==============================] - 71s 1ms/sample - loss: 0.0468 - accuracy: 0.6981\n",
      "Epoch 8/15\n",
      "60000/60000 [==============================] - 67s 1ms/sample - loss: 0.0324 - accuracy: 0.7965\n",
      "Epoch 9/15\n",
      "60000/60000 [==============================] - 67s 1ms/sample - loss: 0.0254 - accuracy: 0.8385\n",
      "Epoch 10/15\n",
      "60000/60000 [==============================] - 64s 1ms/sample - loss: 0.0215 - accuracy: 0.8630\n",
      "Epoch 11/15\n",
      "60000/60000 [==============================] - 59s 991us/sample - loss: 0.0190 - accuracy: 0.8779\n",
      "Epoch 12/15\n",
      "60000/60000 [==============================] - 62s 1ms/sample - loss: 0.0171 - accuracy: 0.8894\n",
      "Epoch 13/15\n",
      "60000/60000 [==============================] - 58s 959us/sample - loss: 0.0156 - accuracy: 0.8994\n",
      "Epoch 14/15\n",
      "60000/60000 [==============================] - 57s 952us/sample - loss: 0.0144 - accuracy: 0.9072\n",
      "Epoch 15/15\n",
      "60000/60000 [==============================] - 57s 952us/sample - loss: 0.0135 - accuracy: 0.9130\n"
     ]
    },
    {
     "data": {
      "text/plain": [
       "<tensorflow.python.keras.callbacks.History at 0x2d3804fe0c8>"
      ]
     },
     "execution_count": 14,
     "metadata": {},
     "output_type": "execute_result"
    }
   ],
   "source": [
    "model.fit(x_train, y_train, batch_size=256, epochs=15) ##batch_size=256;訓練15次"
   ]
  },
  {
   "cell_type": "code",
   "execution_count": 16,
   "metadata": {},
   "outputs": [
    {
     "name": "stdout",
     "output_type": "stream",
     "text": [
      "60000/60000 [==============================] - 15s 247us/sample - loss: 0.0133 - accuracy: 0.9155\n",
      "10000/10000 [==============================] - 3s 259us/sample - loss: 0.0128 - accuracy: 0.9186\n",
      "Training data的正確率是百分之 91.55166745185852\n",
      "Testing data的正確率是百分之 91.86000227928162\n"
     ]
    }
   ],
   "source": [
    "score_train = model.evaluate(x_train, y_train)\n",
    "score_test = model.evaluate(x_test, y_test)\n",
    "print(f\"Training data的正確率是百分之 {score_train[1]*100}\")\n",
    "print(f\"Testing data的正確率是百分之 {score_test[1]*100}\")"
   ]
  },
  {
   "cell_type": "markdown",
   "metadata": {},
   "source": [
    "## 遷移學習"
   ]
  },
  {
   "cell_type": "markdown",
   "metadata": {},
   "source": [
    "## 使用Fashion MNIST資料庫"
   ]
  },
  {
   "cell_type": "code",
   "execution_count": 17,
   "metadata": {},
   "outputs": [],
   "source": [
    "from tensorflow.keras.datasets import fashion_mnist\n",
    "(x_train, y_train), (x_test, y_test) = fashion_mnist.load_data()\n",
    "class_names = [\"T-shirt/top\", \"Trouser\", \"Pullover\", \"Dress\", \"Coat\", \"Sandal\", \"Shirt\", \"Sneaker\", \"Bag\", \"Ankle boot\"]"
   ]
  },
  {
   "cell_type": "markdown",
   "metadata": {},
   "source": [
    "## 資料前處理 (Data Preprocessing)"
   ]
  },
  {
   "cell_type": "code",
   "execution_count": 18,
   "metadata": {},
   "outputs": [],
   "source": [
    "x_train = x_train.reshape(60000, 28, 28, 1)/255\n",
    "x_test = x_test.reshape(10000, 28, 28, 1)/255"
   ]
  },
  {
   "cell_type": "code",
   "execution_count": 19,
   "metadata": {},
   "outputs": [],
   "source": [
    "y_train = to_categorical(y_train, 10)\n",
    "y_test = to_categorical(y_test, 10)"
   ]
  },
  {
   "cell_type": "code",
   "execution_count": 23,
   "metadata": {},
   "outputs": [],
   "source": [
    "FC_layers2 = [Dense(128, activation='relu'),\n",
    "              Dense(64, activation='relu'),\n",
    "              Dense(10, activation='softmax')]"
   ]
  },
  {
   "cell_type": "code",
   "execution_count": 24,
   "metadata": {},
   "outputs": [],
   "source": [
    "model2 = Sequential(CNN_layers+FC_layers2)"
   ]
  },
  {
   "cell_type": "code",
   "execution_count": 25,
   "metadata": {},
   "outputs": [
    {
     "name": "stdout",
     "output_type": "stream",
     "text": [
      "Model: \"sequential_2\"\n",
      "_________________________________________________________________\n",
      "Layer (type)                 Output Shape              Param #   \n",
      "=================================================================\n",
      "conv2d (Conv2D)              (None, 28, 28, 10)        260       \n",
      "_________________________________________________________________\n",
      "max_pooling2d (MaxPooling2D) (None, 14, 14, 10)        0         \n",
      "_________________________________________________________________\n",
      "conv2d_1 (Conv2D)            (None, 14, 14, 15)        3765      \n",
      "_________________________________________________________________\n",
      "max_pooling2d_1 (MaxPooling2 (None, 7, 7, 15)          0         \n",
      "_________________________________________________________________\n",
      "conv2d_2 (Conv2D)            (None, 7, 7, 20)          7520      \n",
      "_________________________________________________________________\n",
      "max_pooling2d_2 (MaxPooling2 (None, 3, 3, 20)          0         \n",
      "_________________________________________________________________\n",
      "flatten (Flatten)            (None, 180)               0         \n",
      "_________________________________________________________________\n",
      "dense_5 (Dense)              (None, 128)               23168     \n",
      "_________________________________________________________________\n",
      "dense_6 (Dense)              (None, 64)                8256      \n",
      "_________________________________________________________________\n",
      "dense_7 (Dense)              (None, 10)                650       \n",
      "=================================================================\n",
      "Total params: 43,619\n",
      "Trainable params: 43,619\n",
      "Non-trainable params: 0\n",
      "_________________________________________________________________\n"
     ]
    }
   ],
   "source": [
    "model2.summary()"
   ]
  },
  {
   "cell_type": "markdown",
   "metadata": {},
   "source": [
    "## Frozen的場合"
   ]
  },
  {
   "cell_type": "code",
   "execution_count": 26,
   "metadata": {},
   "outputs": [],
   "source": [
    "for layer in CNN_layers:\n",
    "    layer.trainable = False"
   ]
  },
  {
   "cell_type": "code",
   "execution_count": 27,
   "metadata": {},
   "outputs": [
    {
     "name": "stdout",
     "output_type": "stream",
     "text": [
      "Model: \"sequential_2\"\n",
      "_________________________________________________________________\n",
      "Layer (type)                 Output Shape              Param #   \n",
      "=================================================================\n",
      "conv2d (Conv2D)              (None, 28, 28, 10)        260       \n",
      "_________________________________________________________________\n",
      "max_pooling2d (MaxPooling2D) (None, 14, 14, 10)        0         \n",
      "_________________________________________________________________\n",
      "conv2d_1 (Conv2D)            (None, 14, 14, 15)        3765      \n",
      "_________________________________________________________________\n",
      "max_pooling2d_1 (MaxPooling2 (None, 7, 7, 15)          0         \n",
      "_________________________________________________________________\n",
      "conv2d_2 (Conv2D)            (None, 7, 7, 20)          7520      \n",
      "_________________________________________________________________\n",
      "max_pooling2d_2 (MaxPooling2 (None, 3, 3, 20)          0         \n",
      "_________________________________________________________________\n",
      "flatten (Flatten)            (None, 180)               0         \n",
      "_________________________________________________________________\n",
      "dense_5 (Dense)              (None, 128)               23168     \n",
      "_________________________________________________________________\n",
      "dense_6 (Dense)              (None, 64)                8256      \n",
      "_________________________________________________________________\n",
      "dense_7 (Dense)              (None, 10)                650       \n",
      "=================================================================\n",
      "Total params: 43,619\n",
      "Trainable params: 32,074\n",
      "Non-trainable params: 11,545\n",
      "_________________________________________________________________\n"
     ]
    }
   ],
   "source": [
    "model2.summary()"
   ]
  },
  {
   "cell_type": "code",
   "execution_count": 28,
   "metadata": {},
   "outputs": [],
   "source": [
    "model2.compile(loss='mse', optimizer=SGD(lr=0.087), metrics=['accuracy'])"
   ]
  },
  {
   "cell_type": "code",
   "execution_count": 29,
   "metadata": {},
   "outputs": [
    {
     "name": "stdout",
     "output_type": "stream",
     "text": [
      "Train on 60000 samples\n",
      "Epoch 1/15\n",
      "60000/60000 [==============================] - 22s 371us/sample - loss: 0.0755 - accuracy: 0.4654\n",
      "Epoch 2/15\n",
      "60000/60000 [==============================] - 21s 351us/sample - loss: 0.0544 - accuracy: 0.6031\n",
      "Epoch 3/15\n",
      "60000/60000 [==============================] - 22s 361us/sample - loss: 0.0496 - accuracy: 0.6361\n",
      "Epoch 4/15\n",
      "60000/60000 [==============================] - 23s 382us/sample - loss: 0.0478 - accuracy: 0.6502\n",
      "Epoch 5/15\n",
      "60000/60000 [==============================] - 24s 394us/sample - loss: 0.0466 - accuracy: 0.6588\n",
      "Epoch 6/15\n",
      "60000/60000 [==============================] - 24s 399us/sample - loss: 0.0443 - accuracy: 0.6765\n",
      "Epoch 7/15\n",
      "60000/60000 [==============================] - 24s 402us/sample - loss: 0.0372 - accuracy: 0.7298\n",
      "Epoch 8/15\n",
      "60000/60000 [==============================] - 25s 415us/sample - loss: 0.0359 - accuracy: 0.7410\n",
      "Epoch 9/15\n",
      "60000/60000 [==============================] - 26s 427us/sample - loss: 0.0353 - accuracy: 0.7461\n",
      "Epoch 10/15\n",
      "60000/60000 [==============================] - 26s 429us/sample - loss: 0.0344 - accuracy: 0.7528\n",
      "Epoch 11/15\n",
      "60000/60000 [==============================] - 26s 440us/sample - loss: 0.0342 - accuracy: 0.7566\n",
      "Epoch 12/15\n",
      "60000/60000 [==============================] - 27s 449us/sample - loss: 0.0334 - accuracy: 0.7616\n",
      "Epoch 13/15\n",
      "60000/60000 [==============================] - 27s 456us/sample - loss: 0.0330 - accuracy: 0.7645\n",
      "Epoch 14/15\n",
      "60000/60000 [==============================] - 27s 456us/sample - loss: 0.0325 - accuracy: 0.7689\n",
      "Epoch 15/15\n",
      "60000/60000 [==============================] - 27s 454us/sample - loss: 0.0322 - accuracy: 0.7710\n"
     ]
    },
    {
     "data": {
      "text/plain": [
       "<tensorflow.python.keras.callbacks.History at 0x2d3ac7eb988>"
      ]
     },
     "execution_count": 29,
     "metadata": {},
     "output_type": "execute_result"
    }
   ],
   "source": [
    "model2.fit(x_train, y_train, batch_size=256, epochs=15) ##batch_size=256;仍舊訓練15次"
   ]
  },
  {
   "cell_type": "code",
   "execution_count": 30,
   "metadata": {},
   "outputs": [
    {
     "name": "stdout",
     "output_type": "stream",
     "text": [
      "60000/60000 [==============================] - 16s 265us/sample - loss: 0.0323 - accuracy: 0.7775\n",
      "10000/10000 [==============================] - 3s 284us/sample - loss: 0.0332 - accuracy: 0.7696\n",
      "Training data的正確率是百分之 77.75166630744934\n",
      "Testing data的正確率是百分之 76.9599974155426\n"
     ]
    }
   ],
   "source": [
    "score_train = model2.evaluate(x_train, y_train)\n",
    "score_test = model2.evaluate(x_test, y_test)\n",
    "print(f\"Training data的正確率是百分之 {score_train[1]*100}\")\n",
    "print(f\"Testing data的正確率是百分之 {score_test[1]*100}\")"
   ]
  },
  {
   "cell_type": "markdown",
   "metadata": {},
   "source": [
    "## Fine-tune的場合"
   ]
  },
  {
   "cell_type": "code",
   "execution_count": 31,
   "metadata": {},
   "outputs": [],
   "source": [
    "for layer in CNN_layers:\n",
    "    layer.trainable = True"
   ]
  },
  {
   "cell_type": "code",
   "execution_count": 32,
   "metadata": {},
   "outputs": [
    {
     "name": "stdout",
     "output_type": "stream",
     "text": [
      "Model: \"sequential_2\"\n",
      "_________________________________________________________________\n",
      "Layer (type)                 Output Shape              Param #   \n",
      "=================================================================\n",
      "conv2d (Conv2D)              (None, 28, 28, 10)        260       \n",
      "_________________________________________________________________\n",
      "max_pooling2d (MaxPooling2D) (None, 14, 14, 10)        0         \n",
      "_________________________________________________________________\n",
      "conv2d_1 (Conv2D)            (None, 14, 14, 15)        3765      \n",
      "_________________________________________________________________\n",
      "max_pooling2d_1 (MaxPooling2 (None, 7, 7, 15)          0         \n",
      "_________________________________________________________________\n",
      "conv2d_2 (Conv2D)            (None, 7, 7, 20)          7520      \n",
      "_________________________________________________________________\n",
      "max_pooling2d_2 (MaxPooling2 (None, 3, 3, 20)          0         \n",
      "_________________________________________________________________\n",
      "flatten (Flatten)            (None, 180)               0         \n",
      "_________________________________________________________________\n",
      "dense_5 (Dense)              (None, 128)               23168     \n",
      "_________________________________________________________________\n",
      "dense_6 (Dense)              (None, 64)                8256      \n",
      "_________________________________________________________________\n",
      "dense_7 (Dense)              (None, 10)                650       \n",
      "=================================================================\n",
      "WARNING:tensorflow:Discrepancy between trainable weights and collected trainable weights, did you set `model.trainable` without calling `model.compile` after ?\n",
      "Total params: 32,074\n",
      "Trainable params: 32,074\n",
      "Non-trainable params: 0\n",
      "_________________________________________________________________\n"
     ]
    }
   ],
   "source": [
    "model2.summary()"
   ]
  },
  {
   "cell_type": "code",
   "execution_count": 33,
   "metadata": {},
   "outputs": [],
   "source": [
    "model2.compile(loss='mse', optimizer=SGD(lr=0.087), metrics=['accuracy'])"
   ]
  },
  {
   "cell_type": "code",
   "execution_count": 34,
   "metadata": {},
   "outputs": [
    {
     "name": "stdout",
     "output_type": "stream",
     "text": [
      "Train on 60000 samples\n",
      "Epoch 1/15\n",
      "60000/60000 [==============================] - 50s 829us/sample - loss: 0.0341 - accuracy: 0.7547\n",
      "Epoch 2/15\n",
      "60000/60000 [==============================] - 51s 853us/sample - loss: 0.0314 - accuracy: 0.7776\n",
      "Epoch 3/15\n",
      "60000/60000 [==============================] - 52s 865us/sample - loss: 0.0303 - accuracy: 0.7861\n",
      "Epoch 4/15\n",
      "60000/60000 [==============================] - 54s 901us/sample - loss: 0.0293 - accuracy: 0.7950\n",
      "Epoch 5/15\n",
      "60000/60000 [==============================] - 55s 921us/sample - loss: 0.0287 - accuracy: 0.7983\n",
      "Epoch 6/15\n",
      "60000/60000 [==============================] - 57s 947us/sample - loss: 0.0279 - accuracy: 0.8042\n",
      "Epoch 7/15\n",
      "60000/60000 [==============================] - 57s 958us/sample - loss: 0.0272 - accuracy: 0.8093\n",
      "Epoch 8/15\n",
      "60000/60000 [==============================] - 57s 957us/sample - loss: 0.0267 - accuracy: 0.8131\n",
      "Epoch 9/15\n",
      "60000/60000 [==============================] - 58s 971us/sample - loss: 0.0261 - accuracy: 0.8173\n",
      "Epoch 10/15\n",
      "60000/60000 [==============================] - 58s 968us/sample - loss: 0.0256 - accuracy: 0.8210\n",
      "Epoch 11/15\n",
      "60000/60000 [==============================] - 58s 962us/sample - loss: 0.0254 - accuracy: 0.8237\n",
      "Epoch 12/15\n",
      "60000/60000 [==============================] - 58s 964us/sample - loss: 0.0249 - accuracy: 0.8272\n",
      "Epoch 13/15\n",
      "60000/60000 [==============================] - 58s 959us/sample - loss: 0.0246 - accuracy: 0.8294\n",
      "Epoch 14/15\n",
      "60000/60000 [==============================] - 58s 959us/sample - loss: 0.0242 - accuracy: 0.8315\n",
      "Epoch 15/15\n",
      "60000/60000 [==============================] - 57s 958us/sample - loss: 0.0238 - accuracy: 0.8343\n"
     ]
    },
    {
     "data": {
      "text/plain": [
       "<tensorflow.python.keras.callbacks.History at 0x2d3ac8613c8>"
      ]
     },
     "execution_count": 34,
     "metadata": {},
     "output_type": "execute_result"
    }
   ],
   "source": [
    "model2.fit(x_train, y_train, batch_size=256, epochs=15) ##batch_size=256;仍舊訓練15次"
   ]
  },
  {
   "cell_type": "code",
   "execution_count": 35,
   "metadata": {},
   "outputs": [
    {
     "name": "stdout",
     "output_type": "stream",
     "text": [
      "60000/60000 [==============================] - 16s 263us/sample - loss: 0.0241 - accuracy: 0.8318\n",
      "10000/10000 [==============================] - 3s 271us/sample - loss: 0.0257 - accuracy: 0.8210\n",
      "Training data的正確率是百分之 83.17833542823792\n",
      "Testing data的正確率是百分之 82.09999799728394\n"
     ]
    }
   ],
   "source": [
    "score_train = model2.evaluate(x_train, y_train)\n",
    "score_test = model2.evaluate(x_test, y_test)\n",
    "print(f\"Training data的正確率是百分之 {score_train[1]*100}\")\n",
    "print(f\"Testing data的正確率是百分之 {score_test[1]*100}\")"
   ]
  },
  {
   "cell_type": "markdown",
   "metadata": {},
   "source": [
    "## 小結"
   ]
  },
  {
   "cell_type": "markdown",
   "metadata": {},
   "source": [
    "### 經過三次的學習可以發現，在同樣訓練15次的情況下，使用原本建構及訓練方式的Training Accuracy及Testing Accuracy都會較高，而使用遷移學習的後兩次結果，其Training Accuracy及Testing Accuracy與原本結果落差不小，尤其在Frozen的情況下落差特別大。"
   ]
  },
  {
   "cell_type": "code",
   "execution_count": null,
   "metadata": {},
   "outputs": [],
   "source": []
  }
 ],
 "metadata": {
  "kernelspec": {
   "display_name": "Python 3",
   "language": "python",
   "name": "python3"
  },
  "language_info": {
   "codemirror_mode": {
    "name": "ipython",
    "version": 3
   },
   "file_extension": ".py",
   "mimetype": "text/x-python",
   "name": "python",
   "nbconvert_exporter": "python",
   "pygments_lexer": "ipython3",
   "version": "3.7.4"
  }
 },
 "nbformat": 4,
 "nbformat_minor": 2
}

{
 "cells": [
  {
   "cell_type": "code",
   "execution_count": 1,
   "metadata": {},
   "outputs": [],
   "source": [
    "%matplotlib inline\n",
    "\n",
    "import numpy as np\n",
    "import matplotlib.pyplot as plt\n",
    "import pandas as pd"
   ]
  },
  {
   "cell_type": "code",
   "execution_count": 2,
   "metadata": {},
   "outputs": [],
   "source": [
    "from tensorflow.keras.datasets import mnist"
   ]
  },
  {
   "cell_type": "code",
   "execution_count": 3,
   "metadata": {},
   "outputs": [],
   "source": [
    "(x_train, y_train), (x_test, y_test) = mnist.load_data()"
   ]
  },
  {
   "cell_type": "code",
   "execution_count": 4,
   "metadata": {},
   "outputs": [
    {
     "data": {
      "text/plain": [
       "(60000, 28, 28)"
      ]
     },
     "execution_count": 4,
     "metadata": {},
     "output_type": "execute_result"
    }
   ],
   "source": [
    "x_train.shape"
   ]
  },
  {
   "cell_type": "markdown",
   "metadata": {},
   "source": [
    "## Channel\n",
    "### 因為一開始設定灰階，所以只有一個channel，所以要轉換資料格式"
   ]
  },
  {
   "cell_type": "code",
   "execution_count": 5,
   "metadata": {},
   "outputs": [],
   "source": [
    "x_train = x_train.reshape(60000, 28, 28, 1) / 255"
   ]
  },
  {
   "cell_type": "code",
   "execution_count": 6,
   "metadata": {},
   "outputs": [],
   "source": [
    "x_test = x_test.reshape(10000, 28, 28, 1) / 255"
   ]
  },
  {
   "cell_type": "code",
   "execution_count": 7,
   "metadata": {},
   "outputs": [
    {
     "data": {
      "text/plain": [
       "(28, 28, 1)"
      ]
     },
     "execution_count": 7,
     "metadata": {},
     "output_type": "execute_result"
    }
   ],
   "source": [
    "x_train[87].shape"
   ]
  },
  {
   "cell_type": "code",
   "execution_count": 8,
   "metadata": {},
   "outputs": [
    {
     "data": {
      "text/plain": [
       "9"
      ]
     },
     "execution_count": 8,
     "metadata": {},
     "output_type": "execute_result"
    }
   ],
   "source": [
    "y_train[87]"
   ]
  },
  {
   "cell_type": "code",
   "execution_count": 9,
   "metadata": {},
   "outputs": [],
   "source": [
    "from tensorflow.keras.utils import to_categorical"
   ]
  },
  {
   "cell_type": "code",
   "execution_count": 10,
   "metadata": {},
   "outputs": [],
   "source": [
    "y_train = to_categorical(y_train, 10)\n",
    "y_test = to_categorical(y_test, 10)"
   ]
  },
  {
   "cell_type": "markdown",
   "metadata": {},
   "source": [
    "## 讀入必要的函式"
   ]
  },
  {
   "cell_type": "code",
   "execution_count": 11,
   "metadata": {},
   "outputs": [],
   "source": [
    "from tensorflow.keras.models import Sequential\n",
    "from tensorflow.keras.layers import Conv2D, MaxPooling2D\n",
    "from tensorflow.keras.layers import Dense, Flatten\n",
    "from tensorflow.keras.optimizers import SGD"
   ]
  },
  {
   "cell_type": "markdown",
   "metadata": {},
   "source": [
    "## Step 1 打造函數學習機 (CNN)\n",
    "### 改變filter數量"
   ]
  },
  {
   "cell_type": "code",
   "execution_count": 12,
   "metadata": {},
   "outputs": [],
   "source": [
    "model = Sequential()"
   ]
  },
  {
   "cell_type": "code",
   "execution_count": 13,
   "metadata": {},
   "outputs": [],
   "source": [
    "model.add(Conv2D(32, (3,3), padding='same',\n",
    "                input_shape=(28,28,1),\n",
    "                activation='relu'))"
   ]
  },
  {
   "cell_type": "code",
   "execution_count": 14,
   "metadata": {},
   "outputs": [],
   "source": [
    "# 輸出32個 28x28 矩陣\n",
    "# 事實上是(28, 28, 32)"
   ]
  },
  {
   "cell_type": "code",
   "execution_count": 15,
   "metadata": {},
   "outputs": [],
   "source": [
    "model.add(MaxPooling2D(pool_size=(2,2)))"
   ]
  },
  {
   "cell_type": "code",
   "execution_count": 16,
   "metadata": {},
   "outputs": [],
   "source": [
    "# (14,14,32)"
   ]
  },
  {
   "cell_type": "code",
   "execution_count": 17,
   "metadata": {},
   "outputs": [],
   "source": [
    "model.add(Conv2D(64, (3,3), padding='same',\n",
    "                activation='relu'))"
   ]
  },
  {
   "cell_type": "code",
   "execution_count": 18,
   "metadata": {},
   "outputs": [],
   "source": [
    "# output (14, 14, 64)"
   ]
  },
  {
   "cell_type": "code",
   "execution_count": 19,
   "metadata": {},
   "outputs": [],
   "source": [
    "model.add(MaxPooling2D(pool_size=(2,2)))"
   ]
  },
  {
   "cell_type": "code",
   "execution_count": 20,
   "metadata": {},
   "outputs": [],
   "source": [
    "# output (7, 7, 64)"
   ]
  },
  {
   "cell_type": "code",
   "execution_count": 21,
   "metadata": {},
   "outputs": [],
   "source": [
    "model.add(Conv2D(128, (3,3), padding='same',\n",
    "                activation='relu'))"
   ]
  },
  {
   "cell_type": "code",
   "execution_count": 22,
   "metadata": {},
   "outputs": [],
   "source": [
    "model.add(MaxPooling2D(pool_size=(2,2)))"
   ]
  },
  {
   "cell_type": "code",
   "execution_count": 23,
   "metadata": {},
   "outputs": [],
   "source": [
    "model.add(Flatten())"
   ]
  },
  {
   "cell_type": "code",
   "execution_count": 24,
   "metadata": {},
   "outputs": [],
   "source": [
    "model.add(Dense(54, activation='relu'))"
   ]
  },
  {
   "cell_type": "code",
   "execution_count": 25,
   "metadata": {},
   "outputs": [],
   "source": [
    "model.add(Dense(10, activation='softmax'))"
   ]
  },
  {
   "cell_type": "markdown",
   "metadata": {},
   "source": [
    "## 檢視神經網路"
   ]
  },
  {
   "cell_type": "code",
   "execution_count": 26,
   "metadata": {},
   "outputs": [
    {
     "name": "stdout",
     "output_type": "stream",
     "text": [
      "Model: \"sequential\"\n",
      "_________________________________________________________________\n",
      "Layer (type)                 Output Shape              Param #   \n",
      "=================================================================\n",
      "conv2d (Conv2D)              (None, 28, 28, 32)        320       \n",
      "_________________________________________________________________\n",
      "max_pooling2d (MaxPooling2D) (None, 14, 14, 32)        0         \n",
      "_________________________________________________________________\n",
      "conv2d_1 (Conv2D)            (None, 14, 14, 32)        9248      \n",
      "_________________________________________________________________\n",
      "max_pooling2d_1 (MaxPooling2 (None, 7, 7, 32)          0         \n",
      "_________________________________________________________________\n",
      "conv2d_2 (Conv2D)            (None, 7, 7, 128)         36992     \n",
      "_________________________________________________________________\n",
      "max_pooling2d_2 (MaxPooling2 (None, 3, 3, 128)         0         \n",
      "_________________________________________________________________\n",
      "flatten (Flatten)            (None, 1152)              0         \n",
      "_________________________________________________________________\n",
      "dense (Dense)                (None, 54)                62262     \n",
      "_________________________________________________________________\n",
      "dense_1 (Dense)              (None, 10)                550       \n",
      "=================================================================\n",
      "Total params: 109,372\n",
      "Trainable params: 109,372\n",
      "Non-trainable params: 0\n",
      "_________________________________________________________________\n"
     ]
    }
   ],
   "source": [
    "model.summary()"
   ]
  },
  {
   "cell_type": "code",
   "execution_count": 27,
   "metadata": {},
   "outputs": [
    {
     "data": {
      "text/plain": [
       "320"
      ]
     },
     "execution_count": 27,
     "metadata": {},
     "output_type": "execute_result"
    }
   ],
   "source": [
    "# 3*3 (權重) + 1 (bias)\n",
    "\n",
    "(3*3+1)*32"
   ]
  },
  {
   "cell_type": "code",
   "execution_count": 28,
   "metadata": {},
   "outputs": [],
   "source": [
    "model.compile(loss='mse', optimizer=SGD(lr=0.087),\n",
    "             metrics=['accuracy'])"
   ]
  },
  {
   "cell_type": "markdown",
   "metadata": {},
   "source": [
    "## Step 2. fit\n",
    "### batch_size改成256, epochs改成64"
   ]
  },
  {
   "cell_type": "code",
   "execution_count": 29,
   "metadata": {},
   "outputs": [
    {
     "name": "stdout",
     "output_type": "stream",
     "text": [
      "Train on 60000 samples\n",
      "Epoch 1/64\n",
      "60000/60000 [==============================] - 54s 905us/sample - loss: 0.0898 - accuracy: 0.1802\n",
      "Epoch 2/64\n",
      "60000/60000 [==============================] - 50s 832us/sample - loss: 0.0896 - accuracy: 0.3346\n",
      "Epoch 3/64\n",
      "60000/60000 [==============================] - 51s 844us/sample - loss: 0.0892 - accuracy: 0.4193\n",
      "Epoch 4/64\n",
      "60000/60000 [==============================] - 54s 897us/sample - loss: 0.0887 - accuracy: 0.4322\n",
      "Epoch 5/64\n",
      "60000/60000 [==============================] - 54s 902us/sample - loss: 0.0878 - accuracy: 0.3895\n",
      "Epoch 6/64\n",
      "60000/60000 [==============================] - 54s 903us/sample - loss: 0.0855 - accuracy: 0.3636\n",
      "Epoch 7/64\n",
      "60000/60000 [==============================] - 54s 903us/sample - loss: 0.0758 - accuracy: 0.4243\n",
      "Epoch 8/64\n",
      "60000/60000 [==============================] - 54s 898us/sample - loss: 0.0473 - accuracy: 0.7379\n",
      "Epoch 9/64\n",
      "60000/60000 [==============================] - 54s 894us/sample - loss: 0.0251 - accuracy: 0.8513\n",
      "Epoch 10/64\n",
      "60000/60000 [==============================] - 54s 901us/sample - loss: 0.0182 - accuracy: 0.8874\n",
      "Epoch 11/64\n",
      "60000/60000 [==============================] - 51s 855us/sample - loss: 0.0146 - accuracy: 0.9092\n",
      "Epoch 12/64\n",
      "60000/60000 [==============================] - 51s 850us/sample - loss: 0.0124 - accuracy: 0.9222\n",
      "Epoch 13/64\n",
      "60000/60000 [==============================] - 50s 836us/sample - loss: 0.0109 - accuracy: 0.9322\n",
      "Epoch 14/64\n",
      "60000/60000 [==============================] - 50s 828us/sample - loss: 0.0099 - accuracy: 0.9376\n",
      "Epoch 15/64\n",
      "60000/60000 [==============================] - 51s 849us/sample - loss: 0.0089 - accuracy: 0.9439\n",
      "Epoch 16/64\n",
      "60000/60000 [==============================] - 51s 844us/sample - loss: 0.0082 - accuracy: 0.9487\n",
      "Epoch 17/64\n",
      "60000/60000 [==============================] - 51s 845us/sample - loss: 0.0076 - accuracy: 0.9523\n",
      "Epoch 18/64\n",
      "60000/60000 [==============================] - 50s 841us/sample - loss: 0.0071 - accuracy: 0.9560\n",
      "Epoch 19/64\n",
      "60000/60000 [==============================] - 52s 862us/sample - loss: 0.0068 - accuracy: 0.9581\n",
      "Epoch 20/64\n",
      "60000/60000 [==============================] - 49s 815us/sample - loss: 0.0064 - accuracy: 0.9610\n",
      "Epoch 21/64\n",
      "60000/60000 [==============================] - 51s 848us/sample - loss: 0.0061 - accuracy: 0.9619\n",
      "Epoch 22/64\n",
      "60000/60000 [==============================] - 49s 811us/sample - loss: 0.0058 - accuracy: 0.9641\n",
      "Epoch 23/64\n",
      "60000/60000 [==============================] - 49s 809us/sample - loss: 0.0056 - accuracy: 0.9657\n",
      "Epoch 24/64\n",
      "60000/60000 [==============================] - 51s 846us/sample - loss: 0.0054 - accuracy: 0.9665\n",
      "Epoch 25/64\n",
      "60000/60000 [==============================] - 51s 849us/sample - loss: 0.0052 - accuracy: 0.9676\n",
      "Epoch 26/64\n",
      "60000/60000 [==============================] - 50s 834us/sample - loss: 0.0050 - accuracy: 0.9692\n",
      "Epoch 27/64\n",
      "60000/60000 [==============================] - 52s 868us/sample - loss: 0.0049 - accuracy: 0.9693\n",
      "Epoch 28/64\n",
      "60000/60000 [==============================] - 53s 879us/sample - loss: 0.0047 - accuracy: 0.9708\n",
      "Epoch 29/64\n",
      "60000/60000 [==============================] - 54s 894us/sample - loss: 0.0046 - accuracy: 0.9718\n",
      "Epoch 30/64\n",
      "60000/60000 [==============================] - 52s 870us/sample - loss: 0.0045 - accuracy: 0.9726\n",
      "Epoch 31/64\n",
      "60000/60000 [==============================] - 48s 802us/sample - loss: 0.0043 - accuracy: 0.9737\n",
      "Epoch 32/64\n",
      "60000/60000 [==============================] - 51s 853us/sample - loss: 0.0042 - accuracy: 0.9737\n",
      "Epoch 33/64\n",
      "60000/60000 [==============================] - 54s 898us/sample - loss: 0.0041 - accuracy: 0.9748\n",
      "Epoch 34/64\n",
      "60000/60000 [==============================] - 54s 905us/sample - loss: 0.0040 - accuracy: 0.9747\n",
      "Epoch 35/64\n",
      "60000/60000 [==============================] - 52s 860us/sample - loss: 0.0040 - accuracy: 0.9747\n",
      "Epoch 36/64\n",
      "60000/60000 [==============================] - 48s 802us/sample - loss: 0.0039 - accuracy: 0.9761\n",
      "Epoch 37/64\n",
      "60000/60000 [==============================] - 48s 806us/sample - loss: 0.0038 - accuracy: 0.9762\n",
      "Epoch 38/64\n",
      "60000/60000 [==============================] - 49s 819us/sample - loss: 0.0037 - accuracy: 0.9770\n",
      "Epoch 39/64\n",
      "60000/60000 [==============================] - 49s 810us/sample - loss: 0.0036 - accuracy: 0.9773\n",
      "Epoch 40/64\n",
      "60000/60000 [==============================] - 51s 844us/sample - loss: 0.0036 - accuracy: 0.9780\n",
      "Epoch 41/64\n",
      "60000/60000 [==============================] - 49s 811us/sample - loss: 0.0035 - accuracy: 0.9784\n",
      "Epoch 42/64\n",
      "60000/60000 [==============================] - 47s 789us/sample - loss: 0.0035 - accuracy: 0.9785\n",
      "Epoch 43/64\n",
      "60000/60000 [==============================] - 49s 814us/sample - loss: 0.0034 - accuracy: 0.9787\n",
      "Epoch 44/64\n",
      "60000/60000 [==============================] - 49s 813us/sample - loss: 0.0033 - accuracy: 0.9794\n",
      "Epoch 45/64\n",
      "60000/60000 [==============================] - 49s 817us/sample - loss: 0.0033 - accuracy: 0.9797\n",
      "Epoch 46/64\n",
      "60000/60000 [==============================] - 50s 825us/sample - loss: 0.0032 - accuracy: 0.9802\n",
      "Epoch 47/64\n",
      "60000/60000 [==============================] - 51s 851us/sample - loss: 0.0032 - accuracy: 0.9800\n",
      "Epoch 48/64\n",
      "60000/60000 [==============================] - 48s 800us/sample - loss: 0.0031 - accuracy: 0.9810\n",
      "Epoch 49/64\n",
      "60000/60000 [==============================] - 49s 813us/sample - loss: 0.0031 - accuracy: 0.9814\n",
      "Epoch 50/64\n",
      "60000/60000 [==============================] - 48s 798us/sample - loss: 0.0030 - accuracy: 0.9815\n",
      "Epoch 51/64\n",
      "60000/60000 [==============================] - 48s 804us/sample - loss: 0.0030 - accuracy: 0.9815\n",
      "Epoch 52/64\n",
      "60000/60000 [==============================] - 49s 809us/sample - loss: 0.0030 - accuracy: 0.9814\n",
      "Epoch 53/64\n",
      "60000/60000 [==============================] - 51s 854us/sample - loss: 0.0029 - accuracy: 0.9819\n",
      "Epoch 54/64\n",
      "60000/60000 [==============================] - 52s 863us/sample - loss: 0.0029 - accuracy: 0.9819\n",
      "Epoch 55/64\n",
      "60000/60000 [==============================] - 51s 854us/sample - loss: 0.0029 - accuracy: 0.9826\n",
      "Epoch 56/64\n",
      "60000/60000 [==============================] - 54s 898us/sample - loss: 0.0028 - accuracy: 0.9824\n",
      "Epoch 57/64\n",
      "60000/60000 [==============================] - 54s 898us/sample - loss: 0.0028 - accuracy: 0.9831\n",
      "Epoch 58/64\n",
      "60000/60000 [==============================] - 54s 896us/sample - loss: 0.0027 - accuracy: 0.9832\n",
      "Epoch 59/64\n",
      "60000/60000 [==============================] - 54s 897us/sample - loss: 0.0027 - accuracy: 0.9830\n",
      "Epoch 60/64\n",
      "60000/60000 [==============================] - 54s 893us/sample - loss: 0.0027 - accuracy: 0.9836\n",
      "Epoch 61/64\n",
      "60000/60000 [==============================] - 54s 892us/sample - loss: 0.0027 - accuracy: 0.9836\n",
      "Epoch 62/64\n",
      "60000/60000 [==============================] - 54s 892us/sample - loss: 0.0026 - accuracy: 0.9839\n",
      "Epoch 63/64\n",
      "60000/60000 [==============================] - 54s 894us/sample - loss: 0.0026 - accuracy: 0.9844\n",
      "Epoch 64/64\n",
      "60000/60000 [==============================] - 53s 891us/sample - loss: 0.0025 - accuracy: 0.9846\n"
     ]
    },
    {
     "data": {
      "text/plain": [
       "<tensorflow.python.keras.callbacks.History at 0x213ddc5f248>"
      ]
     },
     "execution_count": 29,
     "metadata": {},
     "output_type": "execute_result"
    }
   ],
   "source": [
    "model.fit(x_train, y_train, batch_size=256, epochs=64)"
   ]
  },
  {
   "cell_type": "markdown",
   "metadata": {},
   "source": [
    "## Step 3. 預測"
   ]
  },
  {
   "cell_type": "code",
   "execution_count": 30,
   "metadata": {},
   "outputs": [],
   "source": [
    "result = model.predict_classes(x_test)"
   ]
  },
  {
   "cell_type": "code",
   "execution_count": 31,
   "metadata": {},
   "outputs": [],
   "source": [
    "def my_predict(n):\n",
    "    print('CNN的預測是', result[n])\n",
    "    X = x_test[n].reshape(28,28)\n",
    "    plt.imshow(X, cmap='Greys')"
   ]
  },
  {
   "cell_type": "code",
   "execution_count": 32,
   "metadata": {},
   "outputs": [],
   "source": [
    "from ipywidgets import interact_manual"
   ]
  },
  {
   "cell_type": "code",
   "execution_count": 33,
   "metadata": {},
   "outputs": [
    {
     "data": {
      "application/vnd.jupyter.widget-view+json": {
       "model_id": "6a9546cac9884856b72395babf30bb4b",
       "version_major": 2,
       "version_minor": 0
      },
      "text/plain": [
       "interactive(children=(IntSlider(value=4999, description='n', max=9999), Button(description='Run Interact', sty…"
      ]
     },
     "metadata": {},
     "output_type": "display_data"
    },
    {
     "data": {
      "text/plain": [
       "<function __main__.my_predict(n)>"
      ]
     },
     "execution_count": 33,
     "metadata": {},
     "output_type": "execute_result"
    }
   ],
   "source": [
    "interact_manual(my_predict, n=(0, 9999))"
   ]
  },
  {
   "cell_type": "code",
   "execution_count": 34,
   "metadata": {},
   "outputs": [
    {
     "name": "stdout",
     "output_type": "stream",
     "text": [
      "10000/10000 [==============================] - 5s 522us/sample - loss: 0.0026 - accuracy: 0.9822\n"
     ]
    }
   ],
   "source": [
    "score = model.evaluate(x_test, y_test)"
   ]
  },
  {
   "cell_type": "code",
   "execution_count": 35,
   "metadata": {},
   "outputs": [],
   "source": [
    "loss, acc = score"
   ]
  },
  {
   "cell_type": "code",
   "execution_count": 36,
   "metadata": {},
   "outputs": [
    {
     "name": "stdout",
     "output_type": "stream",
     "text": [
      "測試資料的正確率是 0.9822\n"
     ]
    }
   ],
   "source": [
    "print('測試資料的正確率是', acc)"
   ]
  },
  {
   "cell_type": "markdown",
   "metadata": {},
   "source": [
    "## 把model存起來"
   ]
  },
  {
   "cell_type": "code",
   "execution_count": 37,
   "metadata": {},
   "outputs": [],
   "source": [
    "model.save('fashionCNNmodel.h5')"
   ]
  },
  {
   "cell_type": "code",
   "execution_count": null,
   "metadata": {},
   "outputs": [],
   "source": []
  }
 ],
 "metadata": {
  "kernelspec": {
   "display_name": "Python 3",
   "language": "python",
   "name": "python3"
  },
  "language_info": {
   "codemirror_mode": {
    "name": "ipython",
    "version": 3
   },
   "file_extension": ".py",
   "mimetype": "text/x-python",
   "name": "python",
   "nbconvert_exporter": "python",
   "pygments_lexer": "ipython3",
   "version": "3.7.4"
  }
 },
 "nbformat": 4,
 "nbformat_minor": 2
}
